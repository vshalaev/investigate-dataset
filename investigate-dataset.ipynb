{
 "cells": [
  {
   "cell_type": "code",
   "execution_count": 1,
   "metadata": {
    "collapsed": false
   },
   "outputs": [],
   "source": [
    "import numpy as np\n",
    "import pandas as pd\n",
    "import seaborn as sns\n",
    "import matplotlib.pyplot as plt\n",
    "%matplotlib inline"
   ]
  },
  {
   "cell_type": "code",
   "execution_count": 2,
   "metadata": {
    "collapsed": false
   },
   "outputs": [],
   "source": [
    "train = pd.read_csv('train.csv')"
   ]
  },
  {
   "cell_type": "code",
   "execution_count": 3,
   "metadata": {
    "collapsed": false
   },
   "outputs": [
    {
     "data": {
      "text/html": [
       "<div>\n",
       "<table border=\"1\" class=\"dataframe\">\n",
       "  <thead>\n",
       "    <tr style=\"text-align: right;\">\n",
       "      <th></th>\n",
       "      <th>PassengerId</th>\n",
       "      <th>Survived</th>\n",
       "      <th>Pclass</th>\n",
       "      <th>Name</th>\n",
       "      <th>Sex</th>\n",
       "      <th>Age</th>\n",
       "      <th>SibSp</th>\n",
       "      <th>Parch</th>\n",
       "      <th>Ticket</th>\n",
       "      <th>Fare</th>\n",
       "      <th>Cabin</th>\n",
       "      <th>Embarked</th>\n",
       "    </tr>\n",
       "  </thead>\n",
       "  <tbody>\n",
       "    <tr>\n",
       "      <th>0</th>\n",
       "      <td>1</td>\n",
       "      <td>0</td>\n",
       "      <td>3</td>\n",
       "      <td>Braund, Mr. Owen Harris</td>\n",
       "      <td>male</td>\n",
       "      <td>22.0</td>\n",
       "      <td>1</td>\n",
       "      <td>0</td>\n",
       "      <td>A/5 21171</td>\n",
       "      <td>7.2500</td>\n",
       "      <td>NaN</td>\n",
       "      <td>S</td>\n",
       "    </tr>\n",
       "    <tr>\n",
       "      <th>1</th>\n",
       "      <td>2</td>\n",
       "      <td>1</td>\n",
       "      <td>1</td>\n",
       "      <td>Cumings, Mrs. John Bradley (Florence Briggs Th...</td>\n",
       "      <td>female</td>\n",
       "      <td>38.0</td>\n",
       "      <td>1</td>\n",
       "      <td>0</td>\n",
       "      <td>PC 17599</td>\n",
       "      <td>71.2833</td>\n",
       "      <td>C85</td>\n",
       "      <td>C</td>\n",
       "    </tr>\n",
       "    <tr>\n",
       "      <th>2</th>\n",
       "      <td>3</td>\n",
       "      <td>1</td>\n",
       "      <td>3</td>\n",
       "      <td>Heikkinen, Miss. Laina</td>\n",
       "      <td>female</td>\n",
       "      <td>26.0</td>\n",
       "      <td>0</td>\n",
       "      <td>0</td>\n",
       "      <td>STON/O2. 3101282</td>\n",
       "      <td>7.9250</td>\n",
       "      <td>NaN</td>\n",
       "      <td>S</td>\n",
       "    </tr>\n",
       "    <tr>\n",
       "      <th>3</th>\n",
       "      <td>4</td>\n",
       "      <td>1</td>\n",
       "      <td>1</td>\n",
       "      <td>Futrelle, Mrs. Jacques Heath (Lily May Peel)</td>\n",
       "      <td>female</td>\n",
       "      <td>35.0</td>\n",
       "      <td>1</td>\n",
       "      <td>0</td>\n",
       "      <td>113803</td>\n",
       "      <td>53.1000</td>\n",
       "      <td>C123</td>\n",
       "      <td>S</td>\n",
       "    </tr>\n",
       "    <tr>\n",
       "      <th>4</th>\n",
       "      <td>5</td>\n",
       "      <td>0</td>\n",
       "      <td>3</td>\n",
       "      <td>Allen, Mr. William Henry</td>\n",
       "      <td>male</td>\n",
       "      <td>35.0</td>\n",
       "      <td>0</td>\n",
       "      <td>0</td>\n",
       "      <td>373450</td>\n",
       "      <td>8.0500</td>\n",
       "      <td>NaN</td>\n",
       "      <td>S</td>\n",
       "    </tr>\n",
       "  </tbody>\n",
       "</table>\n",
       "</div>"
      ],
      "text/plain": [
       "   PassengerId  Survived  Pclass  \\\n",
       "0            1         0       3   \n",
       "1            2         1       1   \n",
       "2            3         1       3   \n",
       "3            4         1       1   \n",
       "4            5         0       3   \n",
       "\n",
       "                                                Name     Sex   Age  SibSp  \\\n",
       "0                            Braund, Mr. Owen Harris    male  22.0      1   \n",
       "1  Cumings, Mrs. John Bradley (Florence Briggs Th...  female  38.0      1   \n",
       "2                             Heikkinen, Miss. Laina  female  26.0      0   \n",
       "3       Futrelle, Mrs. Jacques Heath (Lily May Peel)  female  35.0      1   \n",
       "4                           Allen, Mr. William Henry    male  35.0      0   \n",
       "\n",
       "   Parch            Ticket     Fare Cabin Embarked  \n",
       "0      0         A/5 21171   7.2500   NaN        S  \n",
       "1      0          PC 17599  71.2833   C85        C  \n",
       "2      0  STON/O2. 3101282   7.9250   NaN        S  \n",
       "3      0            113803  53.1000  C123        S  \n",
       "4      0            373450   8.0500   NaN        S  "
      ]
     },
     "execution_count": 3,
     "metadata": {},
     "output_type": "execute_result"
    }
   ],
   "source": [
    "train.head()"
   ]
  },
  {
   "cell_type": "code",
   "execution_count": 4,
   "metadata": {
    "collapsed": false
   },
   "outputs": [
    {
     "name": "stdout",
     "output_type": "stream",
     "text": [
      "Statistics for \"Survived\" column:\n",
      "count    891.000000\n",
      "mean       0.383838\n",
      "std        0.486592\n",
      "min        0.000000\n",
      "25%        0.000000\n",
      "50%        0.000000\n",
      "75%        1.000000\n",
      "max        1.000000\n",
      "Name: Survived, dtype: float64\n",
      "\n",
      "\n"
     ]
    },
    {
     "data": {
      "image/png": "[encoded data removed]",
      "text/plain": [
       "<matplotlib.figure.Figure at 0x7f1272a2bdd0>"
      ]
     },
     "metadata": {},
     "output_type": "display_data"
    },
    {
     "name": "stdout",
     "output_type": "stream",
     "text": [
      "Note: here, Survived=1 means survival, Survived=0 means death\n"
     ]
    }
   ],
   "source": [
    "# Plot and describe overall survival statistics\n",
    "print 'Statistics for \"Survived\" column:'\n",
    "print train['Survived'].describe()\n",
    "print '\\n'\n",
    "\n",
    "plt.title('Overall survival statistics')\n",
    "plt.xlabel('Survived')\n",
    "plt.ylabel('Number of passengers')\n",
    "train.Survived.value_counts().plot(kind='bar')\n",
    "plt.show()\n",
    "print 'Note: here, Survived=1 means survival, Survived=0 means death'"
   ]
  },
  {
   "cell_type": "code",
   "execution_count": 5,
   "metadata": {
    "collapsed": false
   },
   "outputs": [
    {
     "name": "stdout",
     "output_type": "stream",
     "text": [
      "<class 'pandas.core.frame.DataFrame'>\n",
      "RangeIndex: 891 entries, 0 to 890\n",
      "Data columns (total 12 columns):\n",
      "PassengerId    891 non-null int64\n",
      "Survived       891 non-null int64\n",
      "Pclass         891 non-null int64\n",
      "Name           891 non-null object\n",
      "Sex            891 non-null object\n",
      "Age            714 non-null float64\n",
      "SibSp          891 non-null int64\n",
      "Parch          891 non-null int64\n",
      "Ticket         891 non-null object\n",
      "Fare           891 non-null float64\n",
      "Cabin          204 non-null object\n",
      "Embarked       889 non-null object\n",
      "dtypes: float64(2), int64(5), object(5)\n",
      "memory usage: 83.6+ KB\n"
     ]
    }
   ],
   "source": [
    "# Investigate if there are missing values\n",
    "train.info()"
   ]
  },
  {
   "cell_type": "markdown",
   "metadata": {},
   "source": [
    "# Question:\n",
    "What factors made people more likely to survive?"
   ]
  },
  {
   "cell_type": "markdown",
   "metadata": {},
   "source": [
    "# Data wrangling phase"
   ]
  },
  {
   "cell_type": "code",
   "execution_count": 6,
   "metadata": {
    "collapsed": false
   },
   "outputs": [
    {
     "data": {
      "text/html": [
       "<div>\n",
       "<table border=\"1\" class=\"dataframe\">\n",
       "  <thead>\n",
       "    <tr style=\"text-align: right;\">\n",
       "      <th></th>\n",
       "      <th>PassengerId</th>\n",
       "      <th>Survived</th>\n",
       "      <th>Pclass</th>\n",
       "      <th>Sex</th>\n",
       "      <th>Age</th>\n",
       "      <th>SibSp</th>\n",
       "      <th>Parch</th>\n",
       "      <th>Fare</th>\n",
       "      <th>Embarked</th>\n",
       "    </tr>\n",
       "  </thead>\n",
       "  <tbody>\n",
       "    <tr>\n",
       "      <th>0</th>\n",
       "      <td>1</td>\n",
       "      <td>0</td>\n",
       "      <td>3</td>\n",
       "      <td>male</td>\n",
       "      <td>22.0</td>\n",
       "      <td>1</td>\n",
       "      <td>0</td>\n",
       "      <td>7.2500</td>\n",
       "      <td>S</td>\n",
       "    </tr>\n",
       "    <tr>\n",
       "      <th>1</th>\n",
       "      <td>2</td>\n",
       "      <td>1</td>\n",
       "      <td>1</td>\n",
       "      <td>female</td>\n",
       "      <td>38.0</td>\n",
       "      <td>1</td>\n",
       "      <td>0</td>\n",
       "      <td>71.2833</td>\n",
       "      <td>C</td>\n",
       "    </tr>\n",
       "    <tr>\n",
       "      <th>2</th>\n",
       "      <td>3</td>\n",
       "      <td>1</td>\n",
       "      <td>3</td>\n",
       "      <td>female</td>\n",
       "      <td>26.0</td>\n",
       "      <td>0</td>\n",
       "      <td>0</td>\n",
       "      <td>7.9250</td>\n",
       "      <td>S</td>\n",
       "    </tr>\n",
       "    <tr>\n",
       "      <th>3</th>\n",
       "      <td>4</td>\n",
       "      <td>1</td>\n",
       "      <td>1</td>\n",
       "      <td>female</td>\n",
       "      <td>35.0</td>\n",
       "      <td>1</td>\n",
       "      <td>0</td>\n",
       "      <td>53.1000</td>\n",
       "      <td>S</td>\n",
       "    </tr>\n",
       "    <tr>\n",
       "      <th>4</th>\n",
       "      <td>5</td>\n",
       "      <td>0</td>\n",
       "      <td>3</td>\n",
       "      <td>male</td>\n",
       "      <td>35.0</td>\n",
       "      <td>0</td>\n",
       "      <td>0</td>\n",
       "      <td>8.0500</td>\n",
       "      <td>S</td>\n",
       "    </tr>\n",
       "  </tbody>\n",
       "</table>\n",
       "</div>"
      ],
      "text/plain": [
       "   PassengerId  Survived  Pclass     Sex   Age  SibSp  Parch     Fare Embarked\n",
       "0            1         0       3    male  22.0      1      0   7.2500        S\n",
       "1            2         1       1  female  38.0      1      0  71.2833        C\n",
       "2            3         1       3  female  26.0      0      0   7.9250        S\n",
       "3            4         1       1  female  35.0      1      0  53.1000        S\n",
       "4            5         0       3    male  35.0      0      0   8.0500        S"
      ]
     },
     "execution_count": 6,
     "metadata": {},
     "output_type": "execute_result"
    }
   ],
   "source": [
    "# Drop useless columns\n",
    "train.pop('Name')\n",
    "train.pop('Ticket')\n",
    "train.pop('Cabin')\n",
    "\n",
    "train.head()"
   ]
  },
  {
   "cell_type": "markdown",
   "metadata": {},
   "source": [
    "Let's draw some histograms to determine appropriate buckets for numerical data"
   ]
  },
  {
   "cell_type": "code",
   "execution_count": 7,
   "metadata": {
    "collapsed": false
   },
   "outputs": [
    {
     "data": {
      "image/png": "[encoded data removed]",
      "text/plain": [
       "<matplotlib.figure.Figure at 0x7f1272a4d710>"
      ]
     },
     "metadata": {},
     "output_type": "display_data"
    }
   ],
   "source": [
    "plt.title('Age histogram')\n",
    "plt.xlabel('Age')\n",
    "train['Age'].dropna().plot(kind='hist', bins = int(max(train['Age'])))\n",
    "plt.show()"
   ]
  },
  {
   "cell_type": "code",
   "execution_count": 8,
   "metadata": {
    "collapsed": false
   },
   "outputs": [
    {
     "data": {
      "image/png": "[encoded data removed]",
      "text/plain": [
       "<matplotlib.figure.Figure at 0x7f1272a4da50>"
      ]
     },
     "metadata": {},
     "output_type": "display_data"
    }
   ],
   "source": [
    "plt.title('SibSp histogram')\n",
    "plt.xlabel('SibSp')\n",
    "train['SibSp'].dropna().plot(kind='hist', bins=int(max(train['SibSp'])))\n",
    "plt.show()"
   ]
  },
  {
   "cell_type": "code",
   "execution_count": 9,
   "metadata": {
    "collapsed": false
   },
   "outputs": [
    {
     "data": {
      "image/png": "[encoded data removed]",
      "text/plain": [
       "<matplotlib.figure.Figure at 0x7f1272a4d890>"
      ]
     },
     "metadata": {},
     "output_type": "display_data"
    }
   ],
   "source": [
    "plt.title('Parch histogram')\n",
    "plt.xlabel('Parch')\n",
    "train['Parch'].dropna().plot(kind='hist', bins=int(max(train['Parch'])))\n",
    "plt.show()"
   ]
  },
  {
   "cell_type": "code",
   "execution_count": 10,
   "metadata": {
    "collapsed": false
   },
   "outputs": [
    {
     "data": {
      "image/png": "[encoded data removed]",
      "text/plain": [
       "<matplotlib.figure.Figure at 0x7f123721ef90>"
      ]
     },
     "metadata": {},
     "output_type": "display_data"
    }
   ],
   "source": [
    "plt.title('Fare histogram')\n",
    "plt.xlabel('Fare')\n",
    "train['Fare'].dropna().plot(kind='hist', bins=int(max(train['Fare']/10)))\n",
    "plt.show()"
   ]
  },
  {
   "cell_type": "markdown",
   "metadata": {},
   "source": [
    "Let's map data with a lot of different values to buckets. Specifically, I want to analyze:  \n",
    "1) Survival by age groups. Here, mapping from continuous values to age buckets will help. Also, this is the only useful column containing null values. So we will need to handle that too. I will map ages to 8 buckets: '0-10', '10-20', ... '70+' and 'N/A' for missing values    \n",
    "2) Survival percentage by fare. I will map fares to 2 buckets: cheap tickets (fare <= 50) and expensive ones (fare > 50)  \n",
    "3) Survival percentage by \"SibSp\" parameter. Specifically, I want to look if passenger having a sibling / spouse on board had better chances of survival. So, I will map values to 2 buckets: had SibSp (SibSp >=1) or did not (SibSp = 0)  \n",
    "4) Survival percengtege by \"Parch\" parameter. Specifically, I want to look if passenger having a parent / chilredn on had better chances of survival. So, I will map values to 2 buckets: had Parch (Parch > =1) or did not (Parch = 0)"
   ]
  },
  {
   "cell_type": "code",
   "execution_count": 11,
   "metadata": {
    "collapsed": true
   },
   "outputs": [],
   "source": [
    "# Map ages to age buckets\n",
    "def map_ages(age):\n",
    "    if (age >= 0) and (age <= 10):\n",
    "        return '0-10'\n",
    "    if (age > 10) and (age <= 20):\n",
    "        return '10-20'\n",
    "    if (age > 20) and (age <= 30):\n",
    "        return '20-30'\n",
    "    if (age > 30) and (age <= 40):\n",
    "        return '30-40'\n",
    "    if (age > 40) and (age <= 50):\n",
    "        return '40-50'\n",
    "    if (age > 50) and (age <= 60):\n",
    "        return '50-60'\n",
    "    if (age > 60) and (age <= 70):\n",
    "        return '60-70'\n",
    "    if (age > 70):\n",
    "        return '70+'\n",
    "    else:\n",
    "        return 'N/A'"
   ]
  },
  {
   "cell_type": "code",
   "execution_count": 12,
   "metadata": {
    "collapsed": true
   },
   "outputs": [],
   "source": [
    "# Map SibSp parameter to 2 buckets\n",
    "def had_sibsp(sibsp):\n",
    "    if (sibsp == 0):\n",
    "        return 'no'\n",
    "    else:\n",
    "        return 'yes'"
   ]
  },
  {
   "cell_type": "code",
   "execution_count": 13,
   "metadata": {
    "collapsed": true
   },
   "outputs": [],
   "source": [
    "# Map Parch paramter to 2 buckets\n",
    "def had_parch(parch):\n",
    "    if (parch == 0):\n",
    "        return 'no'\n",
    "    else:\n",
    "        return 'yes'"
   ]
  },
  {
   "cell_type": "code",
   "execution_count": 14,
   "metadata": {
    "collapsed": true
   },
   "outputs": [],
   "source": [
    "# Map ticket fares into 2 buckets\n",
    "def map_fare(fare):\n",
    "    if (fare <= 50):\n",
    "        return 'cheap'\n",
    "    else:\n",
    "        return 'expensive'"
   ]
  },
  {
   "cell_type": "code",
   "execution_count": 15,
   "metadata": {
    "collapsed": false
   },
   "outputs": [
    {
     "data": {
      "text/html": [
       "<div>\n",
       "<table border=\"1\" class=\"dataframe\">\n",
       "  <thead>\n",
       "    <tr style=\"text-align: right;\">\n",
       "      <th></th>\n",
       "      <th>PassengerId</th>\n",
       "      <th>Survived</th>\n",
       "      <th>Pclass</th>\n",
       "      <th>Sex</th>\n",
       "      <th>Age</th>\n",
       "      <th>SibSp</th>\n",
       "      <th>Parch</th>\n",
       "      <th>Fare</th>\n",
       "      <th>Embarked</th>\n",
       "    </tr>\n",
       "  </thead>\n",
       "  <tbody>\n",
       "    <tr>\n",
       "      <th>0</th>\n",
       "      <td>1</td>\n",
       "      <td>0</td>\n",
       "      <td>3</td>\n",
       "      <td>male</td>\n",
       "      <td>20-30</td>\n",
       "      <td>yes</td>\n",
       "      <td>no</td>\n",
       "      <td>cheap</td>\n",
       "      <td>S</td>\n",
       "    </tr>\n",
       "    <tr>\n",
       "      <th>1</th>\n",
       "      <td>2</td>\n",
       "      <td>1</td>\n",
       "      <td>1</td>\n",
       "      <td>female</td>\n",
       "      <td>30-40</td>\n",
       "      <td>yes</td>\n",
       "      <td>no</td>\n",
       "      <td>expensive</td>\n",
       "      <td>C</td>\n",
       "    </tr>\n",
       "    <tr>\n",
       "      <th>2</th>\n",
       "      <td>3</td>\n",
       "      <td>1</td>\n",
       "      <td>3</td>\n",
       "      <td>female</td>\n",
       "      <td>20-30</td>\n",
       "      <td>no</td>\n",
       "      <td>no</td>\n",
       "      <td>cheap</td>\n",
       "      <td>S</td>\n",
       "    </tr>\n",
       "    <tr>\n",
       "      <th>3</th>\n",
       "      <td>4</td>\n",
       "      <td>1</td>\n",
       "      <td>1</td>\n",
       "      <td>female</td>\n",
       "      <td>30-40</td>\n",
       "      <td>yes</td>\n",
       "      <td>no</td>\n",
       "      <td>expensive</td>\n",
       "      <td>S</td>\n",
       "    </tr>\n",
       "    <tr>\n",
       "      <th>4</th>\n",
       "      <td>5</td>\n",
       "      <td>0</td>\n",
       "      <td>3</td>\n",
       "      <td>male</td>\n",
       "      <td>30-40</td>\n",
       "      <td>no</td>\n",
       "      <td>no</td>\n",
       "      <td>cheap</td>\n",
       "      <td>S</td>\n",
       "    </tr>\n",
       "  </tbody>\n",
       "</table>\n",
       "</div>"
      ],
      "text/plain": [
       "   PassengerId  Survived  Pclass     Sex    Age SibSp Parch       Fare  \\\n",
       "0            1         0       3    male  20-30   yes    no      cheap   \n",
       "1            2         1       1  female  30-40   yes    no  expensive   \n",
       "2            3         1       3  female  20-30    no    no      cheap   \n",
       "3            4         1       1  female  30-40   yes    no  expensive   \n",
       "4            5         0       3    male  30-40    no    no      cheap   \n",
       "\n",
       "  Embarked  \n",
       "0        S  \n",
       "1        C  \n",
       "2        S  \n",
       "3        S  \n",
       "4        S  "
      ]
     },
     "execution_count": 15,
     "metadata": {},
     "output_type": "execute_result"
    }
   ],
   "source": [
    "# Transform columns\n",
    "train['Age'] = train['Age'].apply(map_ages)\n",
    "train['Parch'] = train['Parch'].apply(had_parch)\n",
    "train['SibSp'] = train['SibSp'].apply(had_sibsp)\n",
    "train['Fare'] = train['Fare'].apply(map_fare)\n",
    "\n",
    "train.head()"
   ]
  },
  {
   "cell_type": "markdown",
   "metadata": {},
   "source": [
    "# Exploration phase"
   ]
  },
  {
   "cell_type": "code",
   "execution_count": 16,
   "metadata": {
    "collapsed": false
   },
   "outputs": [],
   "source": [
    "# Explore data for columns\n",
    "def explore(columns):\n",
    "    # Print some statisticcs\n",
    "    print 'Statistics:'\n",
    "    print train[columns].describe(include='all')\n",
    "    print '\\n'\n",
    "    \n",
    "    # Group by column\n",
    "    groupby = train.groupby(by=columns)\n",
    "    \n",
    "    # Print data distribution\n",
    "    print 'Distribution:'\n",
    "    print groupby.count()['Survived']\n",
    "    print '\\n'\n",
    "    \n",
    "    # Plot survival percentages\n",
    "    if len(columns) > 1:\n",
    "        plt.title('Survival by ' + ', '.join(columns))\n",
    "    else:\n",
    "        plt.title('Survival by ' + columns[0])\n",
    "        \n",
    "    plt.ylabel('Survival percentage')\n",
    "    groupby.mean()['Survived'].plot(kind='bar')\n",
    "    plt.show()"
   ]
  },
  {
   "cell_type": "markdown",
   "metadata": {},
   "source": [
    "Hypothesis: females were more likely to survive than males. This could happen, for example, due to preferential treatment for lifeboats"
   ]
  },
  {
   "cell_type": "code",
   "execution_count": 17,
   "metadata": {
    "collapsed": false
   },
   "outputs": [
    {
     "name": "stdout",
     "output_type": "stream",
     "text": [
      "Statistics:\n",
      "         Sex\n",
      "count    891\n",
      "unique     2\n",
      "top     male\n",
      "freq     577\n",
      "\n",
      "\n",
      "Distribution:\n",
      "Sex\n",
      "female    314\n",
      "male      577\n",
      "Name: Survived, dtype: int64\n",
      "\n",
      "\n"
     ]
    },
    {
     "data": {
      "image/png": "[encoded data removed]",
      "text/plain": [
       "<matplotlib.figure.Figure at 0x7f12366f4b50>"
      ]
     },
     "metadata": {},
     "output_type": "display_data"
    }
   ],
   "source": [
    "explore (['Sex'])"
   ]
  },
  {
   "cell_type": "markdown",
   "metadata": {},
   "source": [
    "Indeed, we see a drastic difference in male and female survival rates.  \n",
    "\n",
    "However this could have happened due to other reasons:  \n",
    "1) Actually, first class passengers were more likely to survive. It just so happened that there were far more women in first class than in other classes  \n",
    "2) Or, maybe certain age groups (children?) were more likely to survive? And it just so happened there were a lot more underaged women than men  \n",
    "\n",
    "Let's explore these hypotheses"
   ]
  },
  {
   "cell_type": "markdown",
   "metadata": {},
   "source": [
    "Let's see if first class passengers were more likely to survive"
   ]
  },
  {
   "cell_type": "code",
   "execution_count": 18,
   "metadata": {
    "collapsed": false
   },
   "outputs": [
    {
     "name": "stdout",
     "output_type": "stream",
     "text": [
      "Statistics:\n",
      "           Pclass\n",
      "count  891.000000\n",
      "mean     2.308642\n",
      "std      0.836071\n",
      "min      1.000000\n",
      "25%      2.000000\n",
      "50%      3.000000\n",
      "75%      3.000000\n",
      "max      3.000000\n",
      "\n",
      "\n",
      "Distribution:\n",
      "Pclass\n",
      "1    216\n",
      "2    184\n",
      "3    491\n",
      "Name: Survived, dtype: int64\n",
      "\n",
      "\n"
     ]
    },
    {
     "data": {
      "image/png": "[encoded data removed]",
      "text/plain": [
       "<matplotlib.figure.Figure at 0x7f12367ddfd0>"
      ]
     },
     "metadata": {},
     "output_type": "display_data"
    }
   ],
   "source": [
    "explore(['Pclass'])"
   ]
  },
  {
   "cell_type": "markdown",
   "metadata": {},
   "source": [
    "Indeed, we see a difference in survival rates between 1, 2 and 3 classes. But maybe there were more women in first class. Let's slice the data by Pclass and Sex"
   ]
  },
  {
   "cell_type": "code",
   "execution_count": 19,
   "metadata": {
    "collapsed": false
   },
   "outputs": [
    {
     "name": "stdout",
     "output_type": "stream",
     "text": [
      "Statistics:\n",
      "         Sex      Pclass\n",
      "count    891  891.000000\n",
      "unique     2         NaN\n",
      "top     male         NaN\n",
      "freq     577         NaN\n",
      "mean     NaN    2.308642\n",
      "std      NaN    0.836071\n",
      "min      NaN    1.000000\n",
      "25%      NaN    2.000000\n",
      "50%      NaN    3.000000\n",
      "75%      NaN    3.000000\n",
      "max      NaN    3.000000\n",
      "\n",
      "\n",
      "Distribution:\n",
      "Sex     Pclass\n",
      "female  1          94\n",
      "        2          76\n",
      "        3         144\n",
      "male    1         122\n",
      "        2         108\n",
      "        3         347\n",
      "Name: Survived, dtype: int64\n",
      "\n",
      "\n"
     ]
    },
    {
     "data": {
      "image/png": "[encoded data removed]",
      "text/plain": [
       "<matplotlib.figure.Figure at 0x7f123720ff90>"
      ]
     },
     "metadata": {},
     "output_type": "display_data"
    }
   ],
   "source": [
    "explore (['Sex', 'Pclass'])"
   ]
  },
  {
   "cell_type": "markdown",
   "metadata": {},
   "source": [
    "Judging by this graph both Sex and Pclass were predictors of survival"
   ]
  },
  {
   "cell_type": "markdown",
   "metadata": {},
   "source": [
    "Let's see if 'Age' influenced chances of survival"
   ]
  },
  {
   "cell_type": "code",
   "execution_count": 20,
   "metadata": {
    "collapsed": false
   },
   "outputs": [
    {
     "name": "stdout",
     "output_type": "stream",
     "text": [
      "Statistics:\n",
      "          Age\n",
      "count     891\n",
      "unique      9\n",
      "top     20-30\n",
      "freq      230\n",
      "\n",
      "\n",
      "Distribution:\n",
      "Age\n",
      "0-10      64\n",
      "10-20    115\n",
      "20-30    230\n",
      "30-40    155\n",
      "40-50     86\n",
      "50-60     42\n",
      "60-70     17\n",
      "70+        5\n",
      "N/A      177\n",
      "Name: Survived, dtype: int64\n",
      "\n",
      "\n"
     ]
    },
    {
     "data": {
      "image/png": "[encoded data removed]",
      "text/plain": [
       "<matplotlib.figure.Figure at 0x7f1236a0f050>"
      ]
     },
     "metadata": {},
     "output_type": "display_data"
    }
   ],
   "source": [
    "explore (['Age'])"
   ]
  },
  {
   "cell_type": "markdown",
   "metadata": {},
   "source": [
    "Looking at this graph we can see that children (ages 10-20) were definitely more lilely to survive. Maybe this was actually due to differences in Sex or Pclass?"
   ]
  },
  {
   "cell_type": "code",
   "execution_count": 21,
   "metadata": {
    "collapsed": false
   },
   "outputs": [
    {
     "name": "stdout",
     "output_type": "stream",
     "text": [
      "Statistics:\n",
      "         Sex    Age\n",
      "count    891    891\n",
      "unique     2      9\n",
      "top     male  20-30\n",
      "freq     577    230\n",
      "\n",
      "\n",
      "Distribution:\n",
      "Sex     Age  \n",
      "female  0-10      31\n",
      "        10-20     46\n",
      "        20-30     81\n",
      "        30-40     55\n",
      "        40-50     31\n",
      "        50-60     14\n",
      "        60-70      3\n",
      "        N/A       53\n",
      "male    0-10      33\n",
      "        10-20     69\n",
      "        20-30    149\n",
      "        30-40    100\n",
      "        40-50     55\n",
      "        50-60     28\n",
      "        60-70     14\n",
      "        70+        5\n",
      "        N/A      124\n",
      "Name: Survived, dtype: int64\n",
      "\n",
      "\n"
     ]
    },
    {
     "data": {
      "image/png": "[encoded data removed]",
      "text/plain": [
       "<matplotlib.figure.Figure at 0x7f1236a248d0>"
      ]
     },
     "metadata": {},
     "output_type": "display_data"
    }
   ],
   "source": [
    "explore (['Sex', 'Age'])"
   ]
  },
  {
   "cell_type": "markdown",
   "metadata": {},
   "source": [
    "Judging by this graph male children were indeed more likely to survive than grown men. However, I am a little surprised that female children were actually LESS likely to survive than females aged 10+. Maybe not all children were able to make it to lifeboats?"
   ]
  },
  {
   "cell_type": "markdown",
   "metadata": {},
   "source": [
    "Let's explore Age and Pclass"
   ]
  },
  {
   "cell_type": "code",
   "execution_count": 22,
   "metadata": {
    "collapsed": false
   },
   "outputs": [
    {
     "name": "stdout",
     "output_type": "stream",
     "text": [
      "Statistics:\n",
      "            Pclass    Age\n",
      "count   891.000000    891\n",
      "unique         NaN      9\n",
      "top            NaN  20-30\n",
      "freq           NaN    230\n",
      "mean      2.308642    NaN\n",
      "std       0.836071    NaN\n",
      "min       1.000000    NaN\n",
      "25%       2.000000    NaN\n",
      "50%       3.000000    NaN\n",
      "75%       3.000000    NaN\n",
      "max       3.000000    NaN\n",
      "\n",
      "\n",
      "Distribution:\n",
      "Pclass  Age  \n",
      "1       0-10       3\n",
      "        10-20     18\n",
      "        20-30     40\n",
      "        30-40     49\n",
      "        40-50     37\n",
      "        50-60     25\n",
      "        60-70     11\n",
      "        70+        3\n",
      "        N/A       30\n",
      "2       0-10      17\n",
      "        10-20     18\n",
      "        20-30     61\n",
      "        30-40     43\n",
      "        40-50     19\n",
      "        50-60     12\n",
      "        60-70      3\n",
      "        N/A       11\n",
      "3       0-10      44\n",
      "        10-20     79\n",
      "        20-30    129\n",
      "        30-40     63\n",
      "        40-50     30\n",
      "        50-60      5\n",
      "        60-70      3\n",
      "        70+        2\n",
      "        N/A      136\n",
      "Name: Survived, dtype: int64\n",
      "\n",
      "\n"
     ]
    },
    {
     "data": {
      "image/png": "[encoded data removed]",
      "text/plain": [
       "<matplotlib.figure.Figure at 0x7f1236bb9dd0>"
      ]
     },
     "metadata": {},
     "output_type": "display_data"
    }
   ],
   "source": [
    "explore(['Pclass', 'Age'])"
   ]
  },
  {
   "cell_type": "markdown",
   "metadata": {},
   "source": [
    "Looks like overall wealthier passengers were more likely to survive. It's interesting that children from 3rd class were actually less likely to survive than almost any age from 1st class."
   ]
  },
  {
   "cell_type": "markdown",
   "metadata": {},
   "source": [
    "# Conclusions phase"
   ]
  },
  {
   "cell_type": "markdown",
   "metadata": {},
   "source": [
    "I explored how Age, Sex and Pclass influenced chances of survival.  \n",
    "\n",
    "Looks like the strongest predictor (out of 3 explored) of survival was gender (probably because women were given places on lifeboats before men).  \n",
    "Passenger class played its role too. 1st and 2nd class passengers were more likely to survive than 3rd class passengers (due to preferential treatment maybe? or maybe their cabins were closer to lifeboats?)  \n",
    "Finally, seems that children were more likely to survive (maybe their parents gave their places on lifeboats to their children?)  \n",
    "\n",
    "There are some limitations to my analysis and some things that could be done next:  \n",
    "1) There are no rigorous statistical tests  \n",
    "2) Not all the variables are explored  \n",
    "3) Causation is not clear. For example, did 1st class passengers really get preferential treatment? Or they were simply situated closer to lifeboats?  \n",
    "4) It would be interesting to build a classifier and see how it would do on test data  "
   ]
  }
 ],
 "metadata": {
  "kernelspec": {
   "display_name": "Python 2",
   "language": "python",
   "name": "python2"
  },
  "language_info": {
   "codemirror_mode": {
    "name": "ipython",
    "version": 2
   },
   "file_extension": ".py",
   "mimetype": "text/x-python",
   "name": "python",
   "nbconvert_exporter": "python",
   "pygments_lexer": "ipython2",
   "version": "2.7.12"
  }
 },
 "nbformat": 4,
 "nbformat_minor": 0
}
